{
  "nbformat": 4,
  "nbformat_minor": 0,
  "metadata": {
    "colab": {
      "provenance": [],
      "collapsed_sections": []
    },
    "kernelspec": {
      "name": "python3",
      "display_name": "Python 3"
    },
    "language_info": {
      "name": "python"
    }
  },
  "cells": [
    {
      "cell_type": "code",
      "source": [
        "import pandas as pd\n",
        "import statsmodels.api as sm\n",
        "from scipy.special import logit"
      ],
      "metadata": {
        "id": "vvhDI1vTX4hU"
      },
      "execution_count": 9,
      "outputs": []
    },
    {
      "cell_type": "code",
      "source": [
        "df = pd.read_csv(\"https://raw.githubusercontent.com/adiacla/bigdata/master/titanic.csv\")"
      ],
      "metadata": {
        "id": "kzGu1_f-gw_v"
      },
      "execution_count": 5,
      "outputs": []
    },
    {
      "cell_type": "code",
      "source": [
        "# Cabin tiene muchos valores nulos\n",
        "df = df.drop('Cabin', axis= 1)"
      ],
      "metadata": {
        "id": "2_xY9AnEg4ar"
      },
      "execution_count": 6,
      "outputs": []
    },
    {
      "cell_type": "code",
      "source": [
        "# Borrar los nulos\n",
        "df = df.dropna()"
      ],
      "metadata": {
        "id": "U9oOyZg9hATF"
      },
      "execution_count": 7,
      "outputs": []
    },
    {
      "cell_type": "code",
      "source": [
        "# Datos a hacer regresión\n",
        "x = df.iloc[:,[5,6,7,9]]\n",
        "y = df.Survived\n",
        "\n",
        "# Crear regreción\n",
        "logit_model=sm.Logit(y,x)\n",
        "result = logit_model.fit()\n",
        "print(result.summary())"
      ],
      "metadata": {
        "colab": {
          "base_uri": "https://localhost:8080/"
        },
        "id": "TI7lmUL8hA7c",
        "outputId": "3e623b75-c0d6-41fe-c6c8-a6d65d478608"
      },
      "execution_count": 10,
      "outputs": [
        {
          "output_type": "stream",
          "name": "stdout",
          "text": [
            "Optimization terminated successfully.\n",
            "         Current function value: 0.616032\n",
            "         Iterations 6\n",
            "                           Logit Regression Results                           \n",
            "==============================================================================\n",
            "Dep. Variable:               Survived   No. Observations:                  712\n",
            "Model:                          Logit   Df Residuals:                      708\n",
            "Method:                           MLE   Df Model:                            3\n",
            "Date:                Mon, 31 Oct 2022   Pseudo R-squ.:                 0.08708\n",
            "Time:                        00:50:40   Log-Likelihood:                -438.62\n",
            "converged:                       True   LL-Null:                       -480.45\n",
            "Covariance Type:            nonrobust   LLR p-value:                 4.998e-18\n",
            "==============================================================================\n",
            "                 coef    std err          z      P>|z|      [0.025      0.975]\n",
            "------------------------------------------------------------------------------\n",
            "Age           -0.0281      0.003     -8.205      0.000      -0.035      -0.021\n",
            "SibSp         -0.3648      0.097     -3.773      0.000      -0.554      -0.175\n",
            "Parch          0.0891      0.102      0.876      0.381      -0.110       0.289\n",
            "Fare           0.0191      0.003      6.521      0.000       0.013       0.025\n",
            "==============================================================================\n"
          ]
        }
      ]
    },
    {
      "cell_type": "code",
      "source": [
        "# Crear columna de hombres y mujeres\n",
        "df[\"Sex\"] = df[\"Sex\"].astype(\"category\")\n",
        "df2 = pd.get_dummies(df[\"Sex\"], prefix=\"Sex\")\n",
        "df['Sex_female'] = df2['Sex_female']\n",
        "df['Sex_male'] = df2['Sex_male']"
      ],
      "metadata": {
        "id": "uvN-mCxUhG0w"
      },
      "execution_count": 14,
      "outputs": []
    },
    {
      "cell_type": "code",
      "source": [
        "# Hacer regresión de supervivencia vs sexo\n",
        "x = df.iloc[:,[11,12]]\n",
        "y = df.Survived\n",
        "logit_model = sm.Logit(y,x)\n",
        "result = logit_model.fit()\n",
        "print(result.summary())"
      ],
      "metadata": {
        "colab": {
          "base_uri": "https://localhost:8080/"
        },
        "id": "dAtFqI9_hZq6",
        "outputId": "dea5e2b8-8a35-4e66-c5a2-efe10095fdb6"
      },
      "execution_count": 16,
      "outputs": [
        {
          "output_type": "stream",
          "name": "stdout",
          "text": [
            "Optimization terminated successfully.\n",
            "         Current function value: 0.526383\n",
            "         Iterations 5\n",
            "                           Logit Regression Results                           \n",
            "==============================================================================\n",
            "Dep. Variable:               Survived   No. Observations:                  712\n",
            "Model:                          Logit   Df Residuals:                      710\n",
            "Method:                           MLE   Df Model:                            1\n",
            "Date:                Mon, 31 Oct 2022   Pseudo R-squ.:                  0.2199\n",
            "Time:                        00:52:36   Log-Likelihood:                -374.78\n",
            "converged:                       True   LL-Null:                       -480.45\n",
            "Covariance Type:            nonrobust   LLR p-value:                 7.029e-48\n",
            "==============================================================================\n",
            "                 coef    std err          z      P>|z|      [0.025      0.975]\n",
            "------------------------------------------------------------------------------\n",
            "Sex_female     1.1141      0.144      7.734      0.000       0.832       1.396\n",
            "Sex_male      -1.3535      0.116    -11.636      0.000      -1.581      -1.126\n",
            "==============================================================================\n"
          ]
        }
      ]
    },
    {
      "cell_type": "code",
      "source": [
        "# Hacer la regresión con el resto de variables categóricas\n",
        "x = df.iloc[:,[2,5,6,7,11,12]]\n",
        "y = df.Survived\n",
        "logit_model = sm.Logit(y,x)\n",
        "result = logit_model.fit()\n",
        "print(result.summary())"
      ],
      "metadata": {
        "colab": {
          "base_uri": "https://localhost:8080/"
        },
        "id": "gqBVs43qhbwH",
        "outputId": "5fc59205-90bf-40dc-f841-0f788efb8985"
      },
      "execution_count": 17,
      "outputs": [
        {
          "output_type": "stream",
          "name": "stdout",
          "text": [
            "Optimization terminated successfully.\n",
            "         Current function value: 0.446693\n",
            "         Iterations 6\n",
            "                           Logit Regression Results                           \n",
            "==============================================================================\n",
            "Dep. Variable:               Survived   No. Observations:                  712\n",
            "Model:                          Logit   Df Residuals:                      706\n",
            "Method:                           MLE   Df Model:                            5\n",
            "Date:                Mon, 31 Oct 2022   Pseudo R-squ.:                  0.3380\n",
            "Time:                        00:52:54   Log-Likelihood:                -318.05\n",
            "converged:                       True   LL-Null:                       -480.45\n",
            "Covariance Type:            nonrobust   LLR p-value:                 4.614e-68\n",
            "==============================================================================\n",
            "                 coef    std err          z      P>|z|      [0.025      0.975]\n",
            "------------------------------------------------------------------------------\n",
            "Pclass        -1.3126      0.141     -9.317      0.000      -1.589      -1.036\n",
            "Age           -0.0446      0.008     -5.462      0.000      -0.061      -0.029\n",
            "SibSp         -0.3636      0.126     -2.878      0.004      -0.611      -0.116\n",
            "Parch         -0.0356      0.120     -0.297      0.766      -0.270       0.199\n",
            "Sex_female     5.6090      0.547     10.259      0.000       4.537       6.681\n",
            "Sex_male       2.9808      0.486      6.137      0.000       2.029       3.933\n",
            "==============================================================================\n"
          ]
        }
      ]
    }
  ]
}