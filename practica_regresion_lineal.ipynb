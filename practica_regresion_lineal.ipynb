{
 "cells": [
  {
   "cell_type": "code",
   "execution_count": 10,
   "metadata": {},
   "outputs": [],
   "source": [
    "from statistics import mean"
   ]
  },
  {
   "cell_type": "code",
   "execution_count": 1,
   "metadata": {},
   "outputs": [],
   "source": [
    "x = [3, 7, 8, 2, 11, 6]\n",
    "y = [17, 14, 14, 19, 6, 16]"
   ]
  },
  {
   "cell_type": "code",
   "execution_count": 2,
   "metadata": {},
   "outputs": [],
   "source": [
    "sum_xy = 0\n",
    "for i in range(len(x)):\n",
    "    sum_xy += x[i] * y[i]"
   ]
  },
  {
   "cell_type": "code",
   "execution_count": 4,
   "metadata": {},
   "outputs": [],
   "source": [
    "sum_x = 0 \n",
    "for i in range(len(x)):\n",
    "    sum_x += x[i]"
   ]
  },
  {
   "cell_type": "code",
   "execution_count": 5,
   "metadata": {},
   "outputs": [],
   "source": [
    "sum_y = 0 \n",
    "for i in range(len(y)):\n",
    "    sum_y += y[i]"
   ]
  },
  {
   "cell_type": "code",
   "execution_count": 6,
   "metadata": {},
   "outputs": [],
   "source": [
    "sum_x2 = 0\n",
    "for i in range(len(x)):\n",
    "    sum_x2 += x[i]**2"
   ]
  },
  {
   "cell_type": "code",
   "execution_count": 7,
   "metadata": {},
   "outputs": [],
   "source": [
    "m = ((len(x) * sum_xy) - (sum_x*sum_y)) / ((len(x)*sum_x2) - (sum_x)**2)"
   ]
  },
  {
   "cell_type": "code",
   "execution_count": 11,
   "metadata": {},
   "outputs": [],
   "source": [
    "b = mean(y) - (m * mean(x))\n"
   ]
  },
  {
   "cell_type": "code",
   "execution_count": 14,
   "metadata": {},
   "outputs": [
    {
     "name": "stdout",
     "output_type": "stream",
     "text": [
      "m: -1.2644376899696048\n",
      "b: 22.130699088145896\n",
      "\n",
      "y = -1.2644376899696048x + 22.130699088145896\n"
     ]
    }
   ],
   "source": [
    "print(f'm: {m}')\n",
    "print(f'b: {b}\\n')\n",
    "print(f'y = {m}x + {b}')"
   ]
  }
 ],
 "metadata": {
  "kernelspec": {
   "display_name": "Python 3.10.5 64-bit (system)",
   "language": "python",
   "name": "python3"
  },
  "language_info": {
   "codemirror_mode": {
    "name": "ipython",
    "version": 3
   },
   "file_extension": ".py",
   "mimetype": "text/x-python",
   "name": "python",
   "nbconvert_exporter": "python",
   "pygments_lexer": "ipython3",
   "version": "3.10.5"
  },
  "orig_nbformat": 4,
  "vscode": {
   "interpreter": {
    "hash": "527a0ffcd3d8a55c92681d3779d3b2f186dc07d25c388c775925c60cc5800bbd"
   }
  }
 },
 "nbformat": 4,
 "nbformat_minor": 2
}
