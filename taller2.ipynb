{
  "nbformat": 4,
  "nbformat_minor": 0,
  "metadata": {
    "colab": {
      "name": "taller2",
      "provenance": [],
      "collapsed_sections": []
    },
    "kernelspec": {
      "name": "python3",
      "display_name": "Python 3"
    },
    "language_info": {
      "name": "python"
    }
  },
  "cells": [
    {
      "cell_type": "code",
      "source": [
        "import colorsys"
      ],
      "metadata": {
        "id": "nr_8DBdjqTuC"
      },
      "execution_count": 1,
      "outputs": []
    },
    {
      "cell_type": "code",
      "source": [
        "def generar_gama(ri, gi, bi, rf, gf, bf, cantidad):\n",
        "  hsvi = colorsys.rgb_to_hsv(ri/255, gi/255, bi/255)\n",
        "  hsvf = colorsys.rgb_to_hsv(rf/255, gf/255, bf/255)\n",
        "\n",
        "  pasoh = (hsvf[0]- hsvi[0]) / (cantidad - 1)\n",
        "  pasos = (hsvf[1]- hsvi[1]) / (cantidad - 1)\n",
        "  pasov = (hsvf[2]- hsvi[2]) / (cantidad - 1)\n",
        "\n",
        "  listaRGB = []\n",
        "  listaRGB.append((ri/255, gi/255, bi*255))\n",
        "  for i in range(cantidad-1):\n",
        "    h = hsvi[0] + pasoh * (i+1)\n",
        "    v = hsvi[1] + pasos * (i+1)\n",
        "    s = hsvi[2] + pasov * (i+1)\n",
        "\n",
        "    rgb = colorsys.hsv_to_rgb(h, s, v)\n",
        "    listaRGB.append(rgb)\n",
        "  return listaRGB"
      ],
      "metadata": {
        "id": "vvhDI1vTX4hU"
      },
      "execution_count": 2,
      "outputs": []
    },
    {
      "cell_type": "code",
      "source": [
        "gama = generar_gama(220, 30, 35, 10, 10, 10, 5)\n",
        "gama"
      ],
      "metadata": {
        "colab": {
          "base_uri": "https://localhost:8080/"
        },
        "id": "yyYOrjC1qUtg",
        "outputId": "6c93f273-65ac-4255-87e3-8517febdaf21"
      },
      "execution_count": 3,
      "outputs": [
        {
          "output_type": "execute_result",
          "data": {
            "text/plain": [
              "[(0.8627450980392157, 0.11764705882352941, 8925),\n",
              " (0.42659592245989314, 0.22225935828877005, 0.6477272727272727),\n",
              " (0.23707664884135474, 0.4318181818181818, 0.4292557932263815),\n",
              " (0.18979779411764708, 0.21590909090909094, 0.1629901960784314),\n",
              " (0.0, 0.0, 0.0)]"
            ]
          },
          "metadata": {},
          "execution_count": 3
        }
      ]
    },
    {
      "cell_type": "code",
      "source": [],
      "metadata": {
        "id": "zh_Kmd2BqVHv"
      },
      "execution_count": null,
      "outputs": []
    }
  ]
}