{
  "nbformat": 4,
  "nbformat_minor": 0,
  "metadata": {
    "colab": {
      "provenance": [],
      "collapsed_sections": []
    },
    "kernelspec": {
      "name": "python3",
      "display_name": "Python 3"
    },
    "language_info": {
      "name": "python"
    }
  },
  "cells": [
    {
      "cell_type": "code",
      "source": [
        "import math\n",
        "import random"
      ],
      "metadata": {
        "id": "vvhDI1vTX4hU"
      },
      "execution_count": null,
      "outputs": []
    },
    {
      "cell_type": "code",
      "source": [
        "def distance(x, y):\n",
        "  return math.sqrt(x**2 + y**2)"
      ],
      "metadata": {
        "id": "1JfSoUx5khNy"
      },
      "execution_count": null,
      "outputs": []
    },
    {
      "cell_type": "code",
      "source": [
        "# Estimación determinista\n",
        "\n",
        "count = 0\n",
        "points = 1000\n",
        "paso = 1 / (points - 1)\n",
        "\n",
        "i = 0\n",
        "while i <= 1:\n",
        "  j = 0\n",
        "  while j <= 1:\n",
        "    j+=paso\n",
        "    if distance(i, j) <= 1:\n",
        "      count+=1\n",
        "  i+=paso\n",
        "\n",
        "print(\"Estimación de PI \", (count * 4) / (points**2))\n",
        "print(\"Variable count \", count)"
      ],
      "metadata": {
        "id": "gVgHP_sxkt3h"
      },
      "execution_count": null,
      "outputs": []
    },
    {
      "cell_type": "code",
      "source": [
        "# Estimación aleatoria\n",
        "\n",
        "count = 0\n",
        "points = 1000000\n",
        "\n",
        "for i in range(points):\n",
        "  x = random.uniform(0, 1)\n",
        "  y = random.uniform(0, 1)\n",
        "  if distance(x, y)<=1:\n",
        "    count+=1\n",
        "\n",
        "print(\"Estimación de PI \", (count * 4) / (points))\n",
        "print(\"Variable count \", count)"
      ],
      "metadata": {
        "id": "QjrLBRhKmUtJ",
        "colab": {
          "base_uri": "https://localhost:8080/"
        },
        "outputId": "44e6a050-1263-4ae6-fe18-786d38af5ca0"
      },
      "execution_count": null,
      "outputs": [
        {
          "output_type": "stream",
          "name": "stdout",
          "text": [
            "Estimación de PI  3.143944\n",
            "Variable count  785986\n"
          ]
        }
      ]
    },
    {
      "cell_type": "code",
      "source": [],
      "metadata": {
        "id": "yRrCY6Z4qBgQ"
      },
      "execution_count": null,
      "outputs": []
    }
  ]
}