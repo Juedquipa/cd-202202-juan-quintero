{
  "nbformat": 4,
  "nbformat_minor": 0,
  "metadata": {
    "colab": {
      "provenance": [],
      "collapsed_sections": []
    },
    "kernelspec": {
      "name": "python3",
      "display_name": "Python 3"
    },
    "language_info": {
      "name": "python"
    }
  },
  "cells": [
    {
      "cell_type": "markdown",
      "source": [],
      "metadata": {
        "id": "hieL08zkX33j"
      }
    },
    {
      "cell_type": "code",
      "source": [
        "import numpy as np\n",
        "import pandas as pd\n",
        "import seaborn as sb\n",
        "import os\n",
        "import matplotlib.pyplot as plt\n",
        "from sklearn.svm import SVC\n",
        "from sklearn.model_selection import train_test_split"
      ],
      "metadata": {
        "id": "vvhDI1vTX4hU"
      },
      "execution_count": 1,
      "outputs": []
    },
    {
      "cell_type": "code",
      "source": [
        "dfOriginal = pd.read_csv(\"https://raw.githubusercontent.com/adiacla/bigdata/master/titanic.csv\")"
      ],
      "metadata": {
        "id": "88jK36MpGbzR"
      },
      "execution_count": 19,
      "outputs": []
    },
    {
      "cell_type": "markdown",
      "source": [
        "# Limpiar datos"
      ],
      "metadata": {
        "id": "wxlPHTU7IOI7"
      }
    },
    {
      "cell_type": "code",
      "source": [
        "df = dfOriginal.copy(deep=True)\n",
        "\n",
        "df['Survived'] = df['Survived'].fillna(0)\n",
        "\n",
        "map1 = {'male': 0, 'female': 1}\n",
        "df['Sex'] = df['Sex'].map(map1)\n",
        "\n",
        "df = df.drop(['Cabin', 'Name', 'Ticket', 'PassengerId'], axis= 1)\n",
        "\n",
        "map2 = {'S': 0, 'C': 1, 'Q': 2}\n",
        "df['Embarked'] = df['Embarked'].map(map2)\n",
        "\n",
        "df = df.dropna()\n",
        "\n",
        "df.index = range(df.shape[0])"
      ],
      "metadata": {
        "id": "v93lPYqiGmG_"
      },
      "execution_count": 35,
      "outputs": []
    },
    {
      "cell_type": "markdown",
      "source": [
        "# Predecir\n"
      ],
      "metadata": {
        "id": "O0MwQ6s3JVWz"
      }
    },
    {
      "cell_type": "code",
      "source": [
        "columnas = df.columns.to_list()\n",
        "columnas.remove('Survived')\n",
        "\n",
        "predictores = df[columnas]\n",
        "predecir = df.Survived"
      ],
      "metadata": {
        "id": "x_FudHdQILw7"
      },
      "execution_count": 47,
      "outputs": []
    },
    {
      "cell_type": "code",
      "source": [
        "pred_train, pred_test, res_train, res_test = train_test_split(predictores, predecir, test_size=0.2)"
      ],
      "metadata": {
        "id": "6WqMMaWJJhrc"
      },
      "execution_count": 48,
      "outputs": []
    },
    {
      "cell_type": "code",
      "source": [
        "# Modelo SVM\n",
        "SVM_Model = SVC(gamma='auto', kernel='rbf', C=0.5)\n",
        "SVM_Model.fit(pred_train, res_train)"
      ],
      "metadata": {
        "colab": {
          "base_uri": "https://localhost:8080/",
          "height": 0
        },
        "id": "ad40pT1bKJW1",
        "outputId": "baa89842-cec3-4741-ced2-0410464cf5c8"
      },
      "execution_count": 49,
      "outputs": [
        {
          "output_type": "execute_result",
          "data": {
            "text/plain": [
              "SVC(C=0.5, gamma='auto')"
            ]
          },
          "metadata": {},
          "execution_count": 49
        }
      ]
    },
    {
      "cell_type": "code",
      "source": [
        "res_test"
      ],
      "metadata": {
        "colab": {
          "base_uri": "https://localhost:8080/",
          "height": 0
        },
        "id": "1AC8Fil-KNHk",
        "outputId": "c3f8ee32-ae7a-49c8-cc7b-5c7f5d757e70"
      },
      "execution_count": 50,
      "outputs": [
        {
          "output_type": "execute_result",
          "data": {
            "text/plain": [
              "368    0\n",
              "215    1\n",
              "156    0\n",
              "470    0\n",
              "344    1\n",
              "      ..\n",
              "10     1\n",
              "346    0\n",
              "237    0\n",
              "11     0\n",
              "374    0\n",
              "Name: Survived, Length: 143, dtype: int64"
            ]
          },
          "metadata": {},
          "execution_count": 50
        }
      ]
    },
    {
      "cell_type": "code",
      "source": [
        "print (f'Precisión: {SVM_Model.score(pred_test, res_test):.4f}')"
      ],
      "metadata": {
        "colab": {
          "base_uri": "https://localhost:8080/",
          "height": 0
        },
        "id": "ohE0Fo4fKhfC",
        "outputId": "2e68b278-56b1-43a2-9318-ddcc91afc5e4"
      },
      "execution_count": 51,
      "outputs": [
        {
          "output_type": "stream",
          "name": "stdout",
          "text": [
            "Precisión: 0.6294\n"
          ]
        }
      ]
    },
    {
      "cell_type": "markdown",
      "source": [
        "Tiene una predección relativamente buena, del 62%"
      ],
      "metadata": {
        "id": "FCHhqe2pKl8S"
      }
    }
  ]
}